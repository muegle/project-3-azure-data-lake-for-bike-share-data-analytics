{
 "cells": [
  {
   "cell_type": "markdown",
   "metadata": {
    "application/vnd.databricks.v1+cell": {
     "cellMetadata": {},
     "inputWidgets": {},
     "nuid": "b7c7fc6e-f544-477b-bcea-8a015027b96a",
     "showTitle": false,
     "title": ""
    }
   },
   "source": [
    "transform data in star model"
   ]
  },
  {
   "cell_type": "code",
   "execution_count": 0,
   "metadata": {
    "application/vnd.databricks.v1+cell": {
     "cellMetadata": {
      "byteLimit": 2048000,
      "rowLimit": 10000
     },
     "inputWidgets": {},
     "nuid": "2e7ee178-bfd3-45f3-916f-4ec03c07950d",
     "showTitle": false,
     "title": ""
    }
   },
   "outputs": [],
   "source": [
    "from pyspark.sql.functions import *\n",
    "from pyspark.sql.types import TimestampType"
   ]
  },
  {
   "cell_type": "markdown",
   "metadata": {
    "application/vnd.databricks.v1+cell": {
     "cellMetadata": {},
     "inputWidgets": {},
     "nuid": "c2edb3ba-754b-4302-94d1-121758652737",
     "showTitle": false,
     "title": ""
    }
   },
   "source": [
    "load fact_payment"
   ]
  },
  {
   "cell_type": "code",
   "execution_count": 0,
   "metadata": {
    "application/vnd.databricks.v1+cell": {
     "cellMetadata": {
      "byteLimit": 2048000,
      "rowLimit": 10000
     },
     "inputWidgets": {},
     "nuid": "43e7de8b-4eb4-4264-a4cd-d4a8aeb46756",
     "showTitle": false,
     "title": ""
    }
   },
   "outputs": [],
   "source": [
    "payments = spark.table(\"default.staging_payments\")"
   ]
  },
  {
   "cell_type": "code",
   "execution_count": 0,
   "metadata": {
    "application/vnd.databricks.v1+cell": {
     "cellMetadata": {
      "byteLimit": 2048000,
      "rowLimit": 10000
     },
     "inputWidgets": {},
     "nuid": "6b67c9fd-5500-4acb-8ddf-b5879174fdda",
     "showTitle": false,
     "title": ""
    }
   },
   "outputs": [],
   "source": [
    "# write data to fact_payments\n",
    "spark.sql(\"drop table if exists default.fact_payments\")\n",
    "payments.dropDuplicates([\"PaymentId\"]).write.format(\"delta\").mode(\"overwrite\").saveAsTable(\"default.fact_payments\")"
   ]
  },
  {
   "cell_type": "code",
   "execution_count": 0,
   "metadata": {
    "application/vnd.databricks.v1+cell": {
     "cellMetadata": {
      "byteLimit": 2048000,
      "rowLimit": 10000
     },
     "inputWidgets": {},
     "nuid": "31c2756c-a49a-4390-af98-9b8e4b56913f",
     "showTitle": false,
     "title": ""
    }
   },
   "outputs": [],
   "source": [
    "facts_payments = spark.table(\"default.fact_payments\")"
   ]
  },
  {
   "cell_type": "markdown",
   "metadata": {
    "application/vnd.databricks.v1+cell": {
     "cellMetadata": {},
     "inputWidgets": {},
     "nuid": "0a2b082c-8c4e-4f18-ad92-0b9852434850",
     "showTitle": false,
     "title": ""
    }
   },
   "source": [
    "verify fact_payments"
   ]
  },
  {
   "cell_type": "code",
   "execution_count": 0,
   "metadata": {
    "application/vnd.databricks.v1+cell": {
     "cellMetadata": {
      "byteLimit": 2048000,
      "rowLimit": 10000
     },
     "inputWidgets": {},
     "nuid": "ec54b1fe-307d-47c7-a1a0-70c769f132d1",
     "showTitle": false,
     "title": ""
    }
   },
   "outputs": [
    {
     "output_type": "display_data",
     "data": {
      "text/html": [
       "<style scoped>\n",
       "  .table-result-container {\n",
       "    max-height: 300px;\n",
       "    overflow: auto;\n",
       "  }\n",
       "  table, th, td {\n",
       "    border: 1px solid black;\n",
       "    border-collapse: collapse;\n",
       "  }\n",
       "  th, td {\n",
       "    padding: 5px;\n",
       "  }\n",
       "  th {\n",
       "    text-align: left;\n",
       "  }\n",
       "</style><div class='table-result-container'><table class='table-result'><thead style='background-color: white'><tr><th>PaymentId</th><th>PaymentDate</th><th>Amount</th><th>RiderId</th></tr></thead><tbody><tr><td>32</td><td>2021-12-01</td><td>9.0</td><td>1000</td></tr><tr><td>60</td><td>2020-12-01</td><td>6.47</td><td>1003</td></tr><tr><td>90</td><td>2021-01-01</td><td>9.0</td><td>1004</td></tr><tr><td>371</td><td>2022-02-01</td><td>9.0</td><td>1014</td></tr><tr><td>622</td><td>2021-01-01</td><td>14.35</td><td>1025</td></tr><tr><td>1014</td><td>2019-10-01</td><td>9.0</td><td>1040</td></tr><tr><td>1115</td><td>2022-01-01</td><td>9.0</td><td>1041</td></tr><tr><td>1931</td><td>2017-01-01</td><td>8.86</td><td>1072</td></tr><tr><td>1937</td><td>2017-07-01</td><td>19.49</td><td>1072</td></tr><tr><td>2098</td><td>2020-07-01</td><td>9.0</td><td>1081</td></tr></tbody></table></div>"
      ]
     },
     "metadata": {
      "application/vnd.databricks.v1+output": {
       "addedWidgets": {},
       "aggData": [],
       "aggError": "",
       "aggOverflow": false,
       "aggSchema": [],
       "aggSeriesLimitReached": false,
       "aggType": "",
       "arguments": {},
       "columnCustomDisplayInfos": {},
       "data": [
        [
         32,
         "2021-12-01",
         9.0,
         1000
        ],
        [
         60,
         "2020-12-01",
         6.47,
         1003
        ],
        [
         90,
         "2021-01-01",
         9.0,
         1004
        ],
        [
         371,
         "2022-02-01",
         9.0,
         1014
        ],
        [
         622,
         "2021-01-01",
         14.35,
         1025
        ],
        [
         1014,
         "2019-10-01",
         9.0,
         1040
        ],
        [
         1115,
         "2022-01-01",
         9.0,
         1041
        ],
        [
         1931,
         "2017-01-01",
         8.86,
         1072
        ],
        [
         1937,
         "2017-07-01",
         19.49,
         1072
        ],
        [
         2098,
         "2020-07-01",
         9.0,
         1081
        ]
       ],
       "datasetInfos": [],
       "dbfsResultPath": null,
       "isJsonSchema": true,
       "metadata": {},
       "overflow": false,
       "plotOptions": {
        "customPlotOptions": {},
        "displayType": "table",
        "pivotAggregation": null,
        "pivotColumns": null,
        "xColumns": null,
        "yColumns": null
       },
       "removedWidgets": [],
       "schema": [
        {
         "metadata": "{}",
         "name": "PaymentId",
         "type": "\"integer\""
        },
        {
         "metadata": "{\"__detected_date_formats\":\"yyyy-M-d\"}",
         "name": "PaymentDate",
         "type": "\"date\""
        },
        {
         "metadata": "{}",
         "name": "Amount",
         "type": "\"double\""
        },
        {
         "metadata": "{}",
         "name": "RiderId",
         "type": "\"integer\""
        }
       ],
       "type": "table"
      }
     },
     "output_type": "display_data"
    }
   ],
   "source": [
    "display(facts_payments.limit(10))"
   ]
  },
  {
   "cell_type": "markdown",
   "metadata": {
    "application/vnd.databricks.v1+cell": {
     "cellMetadata": {},
     "inputWidgets": {},
     "nuid": "5156756f-36f4-4565-b94a-7a8b41902f03",
     "showTitle": false,
     "title": ""
    }
   },
   "source": [
    "load dim_rider"
   ]
  },
  {
   "cell_type": "code",
   "execution_count": 0,
   "metadata": {
    "application/vnd.databricks.v1+cell": {
     "cellMetadata": {
      "byteLimit": 2048000,
      "rowLimit": 10000
     },
     "inputWidgets": {},
     "nuid": "ebc72b9f-0577-4647-9ec0-35daf288e073",
     "showTitle": false,
     "title": ""
    }
   },
   "outputs": [],
   "source": [
    "riders = spark.table(\"default.staging_riders\")"
   ]
  },
  {
   "cell_type": "code",
   "execution_count": 0,
   "metadata": {
    "application/vnd.databricks.v1+cell": {
     "cellMetadata": {
      "byteLimit": 2048000,
      "rowLimit": 10000
     },
     "inputWidgets": {},
     "nuid": "6f9650ea-1dac-48e3-a07f-25ac6ca270f2",
     "showTitle": false,
     "title": ""
    }
   },
   "outputs": [],
   "source": [
    "# write data to dim_rider\n",
    "spark.sql(\"drop table if exists default.dim_rider\")\n",
    "riders.dropDuplicates([\"RiderId\"]).write.format(\"delta\").mode(\"overwrite\").saveAsTable(\"default.dim_rider\")"
   ]
  },
  {
   "cell_type": "markdown",
   "metadata": {
    "application/vnd.databricks.v1+cell": {
     "cellMetadata": {},
     "inputWidgets": {},
     "nuid": "949dc68b-0de2-41ad-aab2-5de22f936c3c",
     "showTitle": false,
     "title": ""
    }
   },
   "source": [
    "verify dim_rider"
   ]
  },
  {
   "cell_type": "code",
   "execution_count": 0,
   "metadata": {
    "application/vnd.databricks.v1+cell": {
     "cellMetadata": {
      "byteLimit": 2048000,
      "rowLimit": 10000
     },
     "inputWidgets": {},
     "nuid": "69c735e9-43b6-43d1-aad3-7a873bf5c652",
     "showTitle": false,
     "title": ""
    }
   },
   "outputs": [
    {
     "output_type": "display_data",
     "data": {
      "text/html": [
       "<style scoped>\n",
       "  .table-result-container {\n",
       "    max-height: 300px;\n",
       "    overflow: auto;\n",
       "  }\n",
       "  table, th, td {\n",
       "    border: 1px solid black;\n",
       "    border-collapse: collapse;\n",
       "  }\n",
       "  th, td {\n",
       "    padding: 5px;\n",
       "  }\n",
       "  th {\n",
       "    text-align: left;\n",
       "  }\n",
       "</style><div class='table-result-container'><table class='table-result'><thead style='background-color: white'><tr><th>RiderId</th><th>FirstName</th><th>LastName</th><th>Address</th><th>Birthday</th><th>AccountStartDate</th><th>AccountEndDate</th><th>IsMember</th></tr></thead><tbody><tr><td>1236</td><td>Julia</td><td>Mack</td><td>64964 Michelle Wall Suite 298</td><td>1990-05-20</td><td>2020-04-24</td><td>null</td><td>true</td></tr><tr><td>1661</td><td>David</td><td>Jones</td><td>37516 Crawford Heights Suite 735</td><td>1996-10-16</td><td>2018-11-12</td><td>null</td><td>false</td></tr><tr><td>1810</td><td>John</td><td>Harvey</td><td>6701 Watkins Passage</td><td>1977-02-27</td><td>2019-02-15</td><td>null</td><td>true</td></tr><tr><td>1914</td><td>Shannon</td><td>Preston</td><td>88501 Zhang Valley Suite 076</td><td>1990-08-13</td><td>2018-08-25</td><td>null</td><td>true</td></tr><tr><td>1998</td><td>Veronica</td><td>Long</td><td>91058 Carson Circle</td><td>1990-03-12</td><td>2021-05-28</td><td>2022-01-01</td><td>true</td></tr><tr><td>2053</td><td>Ashley</td><td>Fields</td><td>14282 William Rest</td><td>1994-08-31</td><td>2019-04-29</td><td>null</td><td>true</td></tr><tr><td>2083</td><td>Craig</td><td>Bass</td><td>9517 Monica Springs Apt. 253</td><td>1992-01-15</td><td>2018-08-11</td><td>null</td><td>true</td></tr><tr><td>2097</td><td>Tina</td><td>Williams</td><td>33025 Vicki Parkway Apt. 245</td><td>2003-01-11</td><td>2020-11-04</td><td>null</td><td>true</td></tr><tr><td>2147</td><td>Casey</td><td>Brown</td><td>268 Horton Lakes</td><td>1993-04-01</td><td>2016-10-15</td><td>null</td><td>false</td></tr><tr><td>2277</td><td>Toni</td><td>Diaz</td><td>0758 Daniel Lakes Apt. 068</td><td>2001-10-24</td><td>2021-09-19</td><td>null</td><td>true</td></tr></tbody></table></div>"
      ]
     },
     "metadata": {
      "application/vnd.databricks.v1+output": {
       "addedWidgets": {},
       "aggData": [],
       "aggError": "",
       "aggOverflow": false,
       "aggSchema": [],
       "aggSeriesLimitReached": false,
       "aggType": "",
       "arguments": {},
       "columnCustomDisplayInfos": {},
       "data": [
        [
         1236,
         "Julia",
         "Mack",
         "64964 Michelle Wall Suite 298",
         "1990-05-20",
         "2020-04-24",
         null,
         true
        ],
        [
         1661,
         "David",
         "Jones",
         "37516 Crawford Heights Suite 735",
         "1996-10-16",
         "2018-11-12",
         null,
         false
        ],
        [
         1810,
         "John",
         "Harvey",
         "6701 Watkins Passage",
         "1977-02-27",
         "2019-02-15",
         null,
         true
        ],
        [
         1914,
         "Shannon",
         "Preston",
         "88501 Zhang Valley Suite 076",
         "1990-08-13",
         "2018-08-25",
         null,
         true
        ],
        [
         1998,
         "Veronica",
         "Long",
         "91058 Carson Circle",
         "1990-03-12",
         "2021-05-28",
         "2022-01-01",
         true
        ],
        [
         2053,
         "Ashley",
         "Fields",
         "14282 William Rest",
         "1994-08-31",
         "2019-04-29",
         null,
         true
        ],
        [
         2083,
         "Craig",
         "Bass",
         "9517 Monica Springs Apt. 253",
         "1992-01-15",
         "2018-08-11",
         null,
         true
        ],
        [
         2097,
         "Tina",
         "Williams",
         "33025 Vicki Parkway Apt. 245",
         "2003-01-11",
         "2020-11-04",
         null,
         true
        ],
        [
         2147,
         "Casey",
         "Brown",
         "268 Horton Lakes",
         "1993-04-01",
         "2016-10-15",
         null,
         false
        ],
        [
         2277,
         "Toni",
         "Diaz",
         "0758 Daniel Lakes Apt. 068",
         "2001-10-24",
         "2021-09-19",
         null,
         true
        ]
       ],
       "datasetInfos": [],
       "dbfsResultPath": null,
       "isJsonSchema": true,
       "metadata": {},
       "overflow": false,
       "plotOptions": {
        "customPlotOptions": {},
        "displayType": "table",
        "pivotAggregation": null,
        "pivotColumns": null,
        "xColumns": null,
        "yColumns": null
       },
       "removedWidgets": [],
       "schema": [
        {
         "metadata": "{}",
         "name": "RiderId",
         "type": "\"integer\""
        },
        {
         "metadata": "{}",
         "name": "FirstName",
         "type": "\"string\""
        },
        {
         "metadata": "{}",
         "name": "LastName",
         "type": "\"string\""
        },
        {
         "metadata": "{}",
         "name": "Address",
         "type": "\"string\""
        },
        {
         "metadata": "{\"__detected_date_formats\":\"yyyy-M-d\"}",
         "name": "Birthday",
         "type": "\"date\""
        },
        {
         "metadata": "{\"__detected_date_formats\":\"yyyy-M-d\"}",
         "name": "AccountStartDate",
         "type": "\"date\""
        },
        {
         "metadata": "{\"__detected_date_formats\":\"yyyy-M-d\"}",
         "name": "AccountEndDate",
         "type": "\"date\""
        },
        {
         "metadata": "{}",
         "name": "IsMember",
         "type": "\"boolean\""
        }
       ],
       "type": "table"
      }
     },
     "output_type": "display_data"
    }
   ],
   "source": [
    "dim_riders = spark.table(\"default.dim_rider\")\n",
    "display(dim_riders.limit(10))"
   ]
  },
  {
   "cell_type": "markdown",
   "metadata": {
    "application/vnd.databricks.v1+cell": {
     "cellMetadata": {},
     "inputWidgets": {},
     "nuid": "368d0069-fe0e-4e75-a00d-040af1c82198",
     "showTitle": false,
     "title": ""
    }
   },
   "source": [
    "load dim_station"
   ]
  },
  {
   "cell_type": "code",
   "execution_count": 0,
   "metadata": {
    "application/vnd.databricks.v1+cell": {
     "cellMetadata": {
      "byteLimit": 2048000,
      "rowLimit": 10000
     },
     "inputWidgets": {},
     "nuid": "51cf7ef5-1962-4661-8c34-d7e6e864cc31",
     "showTitle": false,
     "title": ""
    }
   },
   "outputs": [],
   "source": [
    "stations = spark.table(\"default.staging_stations\")"
   ]
  },
  {
   "cell_type": "code",
   "execution_count": 0,
   "metadata": {
    "application/vnd.databricks.v1+cell": {
     "cellMetadata": {
      "byteLimit": 2048000,
      "rowLimit": 10000
     },
     "inputWidgets": {},
     "nuid": "accd71b8-3638-4045-b048-8b288118b2ad",
     "showTitle": false,
     "title": ""
    }
   },
   "outputs": [],
   "source": [
    "# write data to dim_station\n",
    "spark.sql(\"drop table if exists default.dim_station\")\n",
    "stations.dropDuplicates([\"StationId\"]).write.format(\"delta\").mode(\"overwrite\").saveAsTable(\"default.dim_station\")"
   ]
  },
  {
   "cell_type": "markdown",
   "metadata": {
    "application/vnd.databricks.v1+cell": {
     "cellMetadata": {},
     "inputWidgets": {},
     "nuid": "f758bf96-60cf-4e9c-87ec-f13f8808e44c",
     "showTitle": false,
     "title": ""
    }
   },
   "source": [
    "verify dim_station"
   ]
  },
  {
   "cell_type": "code",
   "execution_count": 0,
   "metadata": {
    "application/vnd.databricks.v1+cell": {
     "cellMetadata": {
      "byteLimit": 2048000,
      "rowLimit": 10000
     },
     "inputWidgets": {},
     "nuid": "da30c772-a52f-4e45-8d63-e6de3d73402b",
     "showTitle": false,
     "title": ""
    }
   },
   "outputs": [
    {
     "output_type": "display_data",
     "data": {
      "text/html": [
       "<style scoped>\n",
       "  .table-result-container {\n",
       "    max-height: 300px;\n",
       "    overflow: auto;\n",
       "  }\n",
       "  table, th, td {\n",
       "    border: 1px solid black;\n",
       "    border-collapse: collapse;\n",
       "  }\n",
       "  th, td {\n",
       "    padding: 5px;\n",
       "  }\n",
       "  th {\n",
       "    text-align: left;\n",
       "  }\n",
       "</style><div class='table-result-container'><table class='table-result'><thead style='background-color: white'><tr><th>StationId</th><th>StationName</th><th>Latitude</th><th>Longitude</th></tr></thead><tbody><tr><td>13192</td><td>Halsted St & Dickens Ave</td><td>41.919936</td><td>-87.64883</td></tr><tr><td>KA1504000162</td><td>Clark St & Lunt Ave</td><td>42.009074</td><td>-87.67419</td></tr><tr><td>15634</td><td>Western Ave & Roscoe St</td><td>41.943093</td><td>-87.6873335</td></tr><tr><td>15539</td><td>Desplaines St & Jackson Blvd</td><td>41.878161166666665</td><td>-87.64428766666668</td></tr><tr><td>TA1305000022</td><td>Orleans St & Merchandise Mart Plaza</td><td>41.888243</td><td>-87.63639</td></tr><tr><td>KA1503000075</td><td>DuSable Museum</td><td>41.79156801058</td><td>-87.60785217739999</td></tr><tr><td>13133</td><td>Damen Ave & Cortland St</td><td>41.915983000000004</td><td>-87.677335</td></tr><tr><td>TA1305000009</td><td>Clark St & Ida B Wells Dr</td><td>41.8759326655</td><td>-87.63058453549999</td></tr><tr><td>KA1504000135</td><td>Wells St & Elm St</td><td>41.90320733333333</td><td>-87.63461616666666</td></tr><tr><td>17660</td><td>California Ave & Cortez St</td><td>41.900363</td><td>-87.696704</td></tr></tbody></table></div>"
      ]
     },
     "metadata": {
      "application/vnd.databricks.v1+output": {
       "addedWidgets": {},
       "aggData": [],
       "aggError": "",
       "aggOverflow": false,
       "aggSchema": [],
       "aggSeriesLimitReached": false,
       "aggType": "",
       "arguments": {},
       "columnCustomDisplayInfos": {},
       "data": [
        [
         "13192",
         "Halsted St & Dickens Ave",
         41.919936,
         -87.64883
        ],
        [
         "KA1504000162",
         "Clark St & Lunt Ave",
         42.009074,
         -87.67419
        ],
        [
         "15634",
         "Western Ave & Roscoe St",
         41.943093,
         -87.6873335
        ],
        [
         "15539",
         "Desplaines St & Jackson Blvd",
         41.878161166666665,
         -87.64428766666668
        ],
        [
         "TA1305000022",
         "Orleans St & Merchandise Mart Plaza",
         41.888243,
         -87.63639
        ],
        [
         "KA1503000075",
         "DuSable Museum",
         41.79156801058,
         -87.60785217739999
        ],
        [
         "13133",
         "Damen Ave & Cortland St",
         41.915983000000004,
         -87.677335
        ],
        [
         "TA1305000009",
         "Clark St & Ida B Wells Dr",
         41.8759326655,
         -87.63058453549999
        ],
        [
         "KA1504000135",
         "Wells St & Elm St",
         41.90320733333333,
         -87.63461616666666
        ],
        [
         "17660",
         "California Ave & Cortez St",
         41.900363,
         -87.696704
        ]
       ],
       "datasetInfos": [],
       "dbfsResultPath": null,
       "isJsonSchema": true,
       "metadata": {},
       "overflow": false,
       "plotOptions": {
        "customPlotOptions": {},
        "displayType": "table",
        "pivotAggregation": null,
        "pivotColumns": null,
        "xColumns": null,
        "yColumns": null
       },
       "removedWidgets": [],
       "schema": [
        {
         "metadata": "{}",
         "name": "StationId",
         "type": "\"string\""
        },
        {
         "metadata": "{}",
         "name": "StationName",
         "type": "\"string\""
        },
        {
         "metadata": "{}",
         "name": "Latitude",
         "type": "\"double\""
        },
        {
         "metadata": "{}",
         "name": "Longitude",
         "type": "\"double\""
        }
       ],
       "type": "table"
      }
     },
     "output_type": "display_data"
    }
   ],
   "source": [
    "dim_stations = spark.table(\"default.dim_station\")\n",
    "display(dim_stations.limit(10))"
   ]
  },
  {
   "cell_type": "markdown",
   "metadata": {
    "application/vnd.databricks.v1+cell": {
     "cellMetadata": {},
     "inputWidgets": {},
     "nuid": "ee2dbdc9-efbc-4f18-a7ca-a1c0ce7bcde4",
     "showTitle": false,
     "title": ""
    }
   },
   "source": [
    "load fact_trip"
   ]
  },
  {
   "cell_type": "code",
   "execution_count": 0,
   "metadata": {
    "application/vnd.databricks.v1+cell": {
     "cellMetadata": {
      "byteLimit": 2048000,
      "rowLimit": 10000
     },
     "inputWidgets": {},
     "nuid": "3eadec22-2737-4153-af7e-9b8a6ad2f5c9",
     "showTitle": false,
     "title": ""
    }
   },
   "outputs": [],
   "source": [
    "trips = spark.table(\"default.staging_trips\")"
   ]
  },
  {
   "cell_type": "code",
   "execution_count": 0,
   "metadata": {
    "application/vnd.databricks.v1+cell": {
     "cellMetadata": {
      "byteLimit": 2048000,
      "rowLimit": 10000
     },
     "inputWidgets": {},
     "nuid": "40652a47-b5d3-4275-999f-b5ca85a05e9e",
     "showTitle": false,
     "title": ""
    }
   },
   "outputs": [
    {
     "output_type": "display_data",
     "data": {
      "text/html": [
       "<style scoped>\n",
       "  .table-result-container {\n",
       "    max-height: 300px;\n",
       "    overflow: auto;\n",
       "  }\n",
       "  table, th, td {\n",
       "    border: 1px solid black;\n",
       "    border-collapse: collapse;\n",
       "  }\n",
       "  th, td {\n",
       "    padding: 5px;\n",
       "  }\n",
       "  th {\n",
       "    text-align: left;\n",
       "  }\n",
       "</style><div class='table-result-container'><table class='table-result'><thead style='background-color: white'><tr><th>TripId</th><th>RiderId</th><th>RideableType</th><th>StartStationId</th><th>EndStationId</th><th>StartTimeId</th><th>EndTimeId</th><th>Duration</th><th>RiderAge</th></tr></thead><tbody><tr><td>89E7AA6C29227EFF</td><td>71934</td><td>classic_bike</td><td>525</td><td>660</td><td>2021-02-12T16:14:56Z</td><td>2021-02-12T16:21:43Z</td><td>7.0</td><td>13638.0</td></tr><tr><td>0FEFDE2603568365</td><td>47854</td><td>classic_bike</td><td>525</td><td>16806</td><td>2021-02-14T17:52:38Z</td><td>2021-02-14T18:12:09Z</td><td>20.0</td><td>13523.0</td></tr><tr><td>E6159D746B2DBB91</td><td>70870</td><td>electric_bike</td><td>KA1503000012</td><td>TA1305000029</td><td>2021-02-09T19:10:18Z</td><td>2021-02-09T19:19:10Z</td><td>9.0</td><td>12051.0</td></tr><tr><td>B32D3199F1C2E75B</td><td>58974</td><td>classic_bike</td><td>637</td><td>TA1305000034</td><td>2021-02-02T17:49:41Z</td><td>2021-02-02T17:54:06Z</td><td>4.0</td><td>7107.0</td></tr><tr><td>83E463F23575F4BF</td><td>39608</td><td>electric_bike</td><td>13216</td><td>TA1309000055</td><td>2021-02-23T15:07:23Z</td><td>2021-02-23T15:22:37Z</td><td>15.0</td><td>25961.0</td></tr><tr><td>BDAA7E3494E8D545</td><td>36267</td><td>electric_bike</td><td>18003</td><td>KP1705001026</td><td>2021-02-24T15:43:33Z</td><td>2021-02-24T15:49:05Z</td><td>6.0</td><td>10176.0</td></tr><tr><td>A772742351171257</td><td>50104</td><td>classic_bike</td><td>KP1705001026</td><td>KP1705001026</td><td>2021-02-01T17:47:42Z</td><td>2021-02-01T17:48:33Z</td><td>1.0</td><td>10697.0</td></tr><tr><td>295476889D9B79F8</td><td>19618</td><td>classic_bike</td><td>18003</td><td>18003</td><td>2021-02-11T18:33:53Z</td><td>2021-02-11T18:35:09Z</td><td>1.0</td><td>7767.0</td></tr><tr><td>362087194BA4CC9A</td><td>16732</td><td>classic_bike</td><td>KP1705001026</td><td>KP1705001026</td><td>2021-02-27T15:13:39Z</td><td>2021-02-27T15:36:36Z</td><td>23.0</td><td>5626.0</td></tr><tr><td>21630F715038CCB0</td><td>57068</td><td>classic_bike</td><td>KP1705001026</td><td>KP1705001026</td><td>2021-02-20T08:59:42Z</td><td>2021-02-20T09:17:04Z</td><td>17.0</td><td>16461.0</td></tr></tbody></table></div>"
      ]
     },
     "metadata": {
      "application/vnd.databricks.v1+output": {
       "addedWidgets": {},
       "aggData": [],
       "aggError": "",
       "aggOverflow": false,
       "aggSchema": [],
       "aggSeriesLimitReached": false,
       "aggType": "",
       "arguments": {},
       "columnCustomDisplayInfos": {},
       "data": [
        [
         "89E7AA6C29227EFF",
         71934,
         "classic_bike",
         "525",
         "660",
         "2021-02-12T16:14:56Z",
         "2021-02-12T16:21:43Z",
         7.0,
         13638.0
        ],
        [
         "0FEFDE2603568365",
         47854,
         "classic_bike",
         "525",
         "16806",
         "2021-02-14T17:52:38Z",
         "2021-02-14T18:12:09Z",
         20.0,
         13523.0
        ],
        [
         "E6159D746B2DBB91",
         70870,
         "electric_bike",
         "KA1503000012",
         "TA1305000029",
         "2021-02-09T19:10:18Z",
         "2021-02-09T19:19:10Z",
         9.0,
         12051.0
        ],
        [
         "B32D3199F1C2E75B",
         58974,
         "classic_bike",
         "637",
         "TA1305000034",
         "2021-02-02T17:49:41Z",
         "2021-02-02T17:54:06Z",
         4.0,
         7107.0
        ],
        [
         "83E463F23575F4BF",
         39608,
         "electric_bike",
         "13216",
         "TA1309000055",
         "2021-02-23T15:07:23Z",
         "2021-02-23T15:22:37Z",
         15.0,
         25961.0
        ],
        [
         "BDAA7E3494E8D545",
         36267,
         "electric_bike",
         "18003",
         "KP1705001026",
         "2021-02-24T15:43:33Z",
         "2021-02-24T15:49:05Z",
         6.0,
         10176.0
        ],
        [
         "A772742351171257",
         50104,
         "classic_bike",
         "KP1705001026",
         "KP1705001026",
         "2021-02-01T17:47:42Z",
         "2021-02-01T17:48:33Z",
         1.0,
         10697.0
        ],
        [
         "295476889D9B79F8",
         19618,
         "classic_bike",
         "18003",
         "18003",
         "2021-02-11T18:33:53Z",
         "2021-02-11T18:35:09Z",
         1.0,
         7767.0
        ],
        [
         "362087194BA4CC9A",
         16732,
         "classic_bike",
         "KP1705001026",
         "KP1705001026",
         "2021-02-27T15:13:39Z",
         "2021-02-27T15:36:36Z",
         23.0,
         5626.0
        ],
        [
         "21630F715038CCB0",
         57068,
         "classic_bike",
         "KP1705001026",
         "KP1705001026",
         "2021-02-20T08:59:42Z",
         "2021-02-20T09:17:04Z",
         17.0,
         16461.0
        ]
       ],
       "datasetInfos": [],
       "dbfsResultPath": null,
       "isJsonSchema": true,
       "metadata": {},
       "overflow": false,
       "plotOptions": {
        "customPlotOptions": {},
        "displayType": "table",
        "pivotAggregation": null,
        "pivotColumns": null,
        "xColumns": null,
        "yColumns": null
       },
       "removedWidgets": [],
       "schema": [
        {
         "metadata": "{}",
         "name": "TripId",
         "type": "\"string\""
        },
        {
         "metadata": "{}",
         "name": "RiderId",
         "type": "\"integer\""
        },
        {
         "metadata": "{}",
         "name": "RideableType",
         "type": "\"string\""
        },
        {
         "metadata": "{}",
         "name": "StartStationId",
         "type": "\"string\""
        },
        {
         "metadata": "{}",
         "name": "EndStationId",
         "type": "\"string\""
        },
        {
         "metadata": "{}",
         "name": "StartTimeId",
         "type": "\"timestamp\""
        },
        {
         "metadata": "{}",
         "name": "EndTimeId",
         "type": "\"timestamp\""
        },
        {
         "metadata": "{}",
         "name": "Duration",
         "type": "\"double\""
        },
        {
         "metadata": "{}",
         "name": "RiderAge",
         "type": "\"double\""
        }
       ],
       "type": "table"
      }
     },
     "output_type": "display_data"
    }
   ],
   "source": [
    "fact_trips = trips.alias(\"tbl1\").join(riders.alias(\"tbl2\"), col(\"tbl1.RiderId\") == col(\"tbl2.RiderId\"), \"left\") \\\n",
    "            .withColumn('Duration', round((unix_timestamp(\"EndedAt\") - unix_timestamp('StartAt'))/60)) \\\n",
    "            .withColumn('RiderAge', round((unix_timestamp(\"AccountStartDate\") - unix_timestamp('Birthday'))/3600/24)) \\\n",
    "            .withColumnRenamed('StartAt', 'StartTimeId') \\\n",
    "            .withColumnRenamed('EndedAt', 'EndTimeId') \\\n",
    "            .select(\"TripId\", col(\"tbl1.RiderId\"), \"RideableType\", \"StartStationId\", \"EndStationId\", \"StartTimeId\", \"EndTimeId\", \"Duration\", \"RiderAge\")\n",
    "            \n",
    "display(fact_trips.limit(10))"
   ]
  },
  {
   "cell_type": "code",
   "execution_count": 0,
   "metadata": {
    "application/vnd.databricks.v1+cell": {
     "cellMetadata": {
      "byteLimit": 2048000,
      "rowLimit": 10000
     },
     "inputWidgets": {},
     "nuid": "bf4b130c-e4d7-4cc5-b869-4a253e45fd82",
     "showTitle": false,
     "title": ""
    }
   },
   "outputs": [],
   "source": [
    "# write data to fact_trip\n",
    "spark.sql(\"drop table if exists default.fact_trip\")\n",
    "fact_trips.write.format(\"delta\").mode(\"overwrite\").saveAsTable(\"default.fact_trip\")"
   ]
  },
  {
   "cell_type": "markdown",
   "metadata": {
    "application/vnd.databricks.v1+cell": {
     "cellMetadata": {},
     "inputWidgets": {},
     "nuid": "aa7472ab-46ad-40f3-b419-a760871e36ae",
     "showTitle": false,
     "title": ""
    }
   },
   "source": [
    "load dim_time"
   ]
  },
  {
   "cell_type": "code",
   "execution_count": 0,
   "metadata": {
    "application/vnd.databricks.v1+cell": {
     "cellMetadata": {
      "byteLimit": 2048000,
      "rowLimit": 10000
     },
     "inputWidgets": {},
     "nuid": "bb422535-ef96-48d0-b585-d07be8c650ee",
     "showTitle": false,
     "title": ""
    }
   },
   "outputs": [],
   "source": [
    "from pyspark.sql import functions as f\n",
    "from pyspark.sql.types import StringType\n",
    "# Get min date from trips\n",
    "min_date = trips.selectExpr('MIN(StartAt) AS StartedAt').first().asDict()['StartedAt']\n",
    "# Add date range as max start_at from trip plus 5 years\n",
    "max_date = trips.selectExpr('DATEADD(year, 5, MAX(StartAt)) AS StartedAt').first().asDict()['StartedAt']\n",
    "expression = f\"sequence(to_date('{min_date}'), to_date('{max_date}'), interval 1 day)\"\n",
    "dim_time = spark.createDataFrame([(1,)], [\"TimeId\"])\n",
    "\n",
    "dim_time = dim_time.withColumn(\"DateInit\", f.explode(f.expr(expression)))\n",
    "dim_time = dim_time.withColumn(\"Date\", f.to_timestamp(dim_time.DateInit, \"yyyy-MM-dd\"))\n",
    "\n",
    "dim_time = dim_time \\\n",
    "            .withColumn(\"DayOfWeek\", f.dayofweek(dim_time.Date)) \\\n",
    "            .withColumn(\"DayOfMonth\", f.dayofmonth(dim_time.Date)) \\\n",
    "            .withColumn(\"WeekOfYear\", f.weekofyear(dim_time.Date)) \\\n",
    "            .withColumn(\"Year\", f.year(dim_time.Date)) \\\n",
    "            .withColumn(\"Quarter\", f.quarter(dim_time.Date)) \\\n",
    "            .withColumn(\"Month\", f.month(dim_time.Date)) \\\n",
    "            .withColumn(\"TimeId\", dim_time.Date.cast(StringType())) \\\n",
    "            .drop(f.col(\"DateInit\"))"
   ]
  },
  {
   "cell_type": "markdown",
   "metadata": {
    "application/vnd.databricks.v1+cell": {
     "cellMetadata": {},
     "inputWidgets": {},
     "nuid": "f81223e0-3cfb-4986-b49d-53ad4c04f38b",
     "showTitle": false,
     "title": ""
    }
   },
   "source": [
    "verify dim_time"
   ]
  },
  {
   "cell_type": "code",
   "execution_count": 0,
   "metadata": {
    "application/vnd.databricks.v1+cell": {
     "cellMetadata": {
      "byteLimit": 2048000,
      "rowLimit": 10000
     },
     "inputWidgets": {},
     "nuid": "13b0a9f5-1c1b-4be9-96ca-8f73ec5c0cec",
     "showTitle": false,
     "title": ""
    }
   },
   "outputs": [
    {
     "output_type": "display_data",
     "data": {
      "text/html": [
       "<style scoped>\n",
       "  .table-result-container {\n",
       "    max-height: 300px;\n",
       "    overflow: auto;\n",
       "  }\n",
       "  table, th, td {\n",
       "    border: 1px solid black;\n",
       "    border-collapse: collapse;\n",
       "  }\n",
       "  th, td {\n",
       "    padding: 5px;\n",
       "  }\n",
       "  th {\n",
       "    text-align: left;\n",
       "  }\n",
       "</style><div class='table-result-container'><table class='table-result'><thead style='background-color: white'><tr><th>TimeId</th><th>Date</th><th>DayOfWeek</th><th>DayOfMonth</th><th>WeekOfYear</th><th>Year</th><th>Quarter</th><th>Month</th></tr></thead><tbody><tr><td>2021-02-01 00:00:00</td><td>2021-02-01T00:00:00Z</td><td>2</td><td>1</td><td>5</td><td>2021</td><td>1</td><td>2</td></tr><tr><td>2021-02-02 00:00:00</td><td>2021-02-02T00:00:00Z</td><td>3</td><td>2</td><td>5</td><td>2021</td><td>1</td><td>2</td></tr><tr><td>2021-02-03 00:00:00</td><td>2021-02-03T00:00:00Z</td><td>4</td><td>3</td><td>5</td><td>2021</td><td>1</td><td>2</td></tr><tr><td>2021-02-04 00:00:00</td><td>2021-02-04T00:00:00Z</td><td>5</td><td>4</td><td>5</td><td>2021</td><td>1</td><td>2</td></tr><tr><td>2021-02-05 00:00:00</td><td>2021-02-05T00:00:00Z</td><td>6</td><td>5</td><td>5</td><td>2021</td><td>1</td><td>2</td></tr><tr><td>2021-02-06 00:00:00</td><td>2021-02-06T00:00:00Z</td><td>7</td><td>6</td><td>5</td><td>2021</td><td>1</td><td>2</td></tr><tr><td>2021-02-07 00:00:00</td><td>2021-02-07T00:00:00Z</td><td>1</td><td>7</td><td>5</td><td>2021</td><td>1</td><td>2</td></tr><tr><td>2021-02-08 00:00:00</td><td>2021-02-08T00:00:00Z</td><td>2</td><td>8</td><td>6</td><td>2021</td><td>1</td><td>2</td></tr><tr><td>2021-02-09 00:00:00</td><td>2021-02-09T00:00:00Z</td><td>3</td><td>9</td><td>6</td><td>2021</td><td>1</td><td>2</td></tr><tr><td>2021-02-10 00:00:00</td><td>2021-02-10T00:00:00Z</td><td>4</td><td>10</td><td>6</td><td>2021</td><td>1</td><td>2</td></tr></tbody></table></div>"
      ]
     },
     "metadata": {
      "application/vnd.databricks.v1+output": {
       "addedWidgets": {},
       "aggData": [],
       "aggError": "",
       "aggOverflow": false,
       "aggSchema": [],
       "aggSeriesLimitReached": false,
       "aggType": "",
       "arguments": {},
       "columnCustomDisplayInfos": {},
       "data": [
        [
         "2021-02-01 00:00:00",
         "2021-02-01T00:00:00Z",
         2,
         1,
         5,
         2021,
         1,
         2
        ],
        [
         "2021-02-02 00:00:00",
         "2021-02-02T00:00:00Z",
         3,
         2,
         5,
         2021,
         1,
         2
        ],
        [
         "2021-02-03 00:00:00",
         "2021-02-03T00:00:00Z",
         4,
         3,
         5,
         2021,
         1,
         2
        ],
        [
         "2021-02-04 00:00:00",
         "2021-02-04T00:00:00Z",
         5,
         4,
         5,
         2021,
         1,
         2
        ],
        [
         "2021-02-05 00:00:00",
         "2021-02-05T00:00:00Z",
         6,
         5,
         5,
         2021,
         1,
         2
        ],
        [
         "2021-02-06 00:00:00",
         "2021-02-06T00:00:00Z",
         7,
         6,
         5,
         2021,
         1,
         2
        ],
        [
         "2021-02-07 00:00:00",
         "2021-02-07T00:00:00Z",
         1,
         7,
         5,
         2021,
         1,
         2
        ],
        [
         "2021-02-08 00:00:00",
         "2021-02-08T00:00:00Z",
         2,
         8,
         6,
         2021,
         1,
         2
        ],
        [
         "2021-02-09 00:00:00",
         "2021-02-09T00:00:00Z",
         3,
         9,
         6,
         2021,
         1,
         2
        ],
        [
         "2021-02-10 00:00:00",
         "2021-02-10T00:00:00Z",
         4,
         10,
         6,
         2021,
         1,
         2
        ]
       ],
       "datasetInfos": [],
       "dbfsResultPath": null,
       "isJsonSchema": true,
       "metadata": {},
       "overflow": false,
       "plotOptions": {
        "customPlotOptions": {},
        "displayType": "table",
        "pivotAggregation": null,
        "pivotColumns": null,
        "xColumns": null,
        "yColumns": null
       },
       "removedWidgets": [],
       "schema": [
        {
         "metadata": "{}",
         "name": "TimeId",
         "type": "\"string\""
        },
        {
         "metadata": "{}",
         "name": "Date",
         "type": "\"timestamp\""
        },
        {
         "metadata": "{}",
         "name": "DayOfWeek",
         "type": "\"integer\""
        },
        {
         "metadata": "{}",
         "name": "DayOfMonth",
         "type": "\"integer\""
        },
        {
         "metadata": "{}",
         "name": "WeekOfYear",
         "type": "\"integer\""
        },
        {
         "metadata": "{}",
         "name": "Year",
         "type": "\"integer\""
        },
        {
         "metadata": "{}",
         "name": "Quarter",
         "type": "\"integer\""
        },
        {
         "metadata": "{}",
         "name": "Month",
         "type": "\"integer\""
        }
       ],
       "type": "table"
      }
     },
     "output_type": "display_data"
    }
   ],
   "source": [
    "display(dim_time.limit(10))"
   ]
  },
  {
   "cell_type": "code",
   "execution_count": 0,
   "metadata": {
    "application/vnd.databricks.v1+cell": {
     "cellMetadata": {
      "byteLimit": 2048000,
      "rowLimit": 10000
     },
     "inputWidgets": {},
     "nuid": "7a20a9a2-e435-448e-ab5d-304fa07889bf",
     "showTitle": false,
     "title": ""
    }
   },
   "outputs": [],
   "source": [
    "# write data to dim_time\n",
    "spark.sql(\"drop table if exists default.dim_time\")\n",
    "dim_time.write.format(\"delta\").mode(\"overwrite\").saveAsTable(\"default.dim_time\")"
   ]
  }
 ],
 "metadata": {
  "application/vnd.databricks.v1+notebook": {
   "dashboards": [],
   "environmentMetadata": null,
   "language": "python",
   "notebookMetadata": {
    "pythonIndentUnit": 4
   },
   "notebookName": "Unbenanntes Notebook 2024-05-28 14:38:06",
   "widgets": {}
  }
 },
 "nbformat": 4,
 "nbformat_minor": 0
}
